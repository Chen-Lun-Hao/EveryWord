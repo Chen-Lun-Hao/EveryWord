{
 "cells": [
  {
   "cell_type": "markdown",
   "metadata": {},
   "source": [
    "####创建数组####"
   ]
  },
  {
   "cell_type": "code",
   "execution_count": 30,
   "metadata": {},
   "outputs": [
    {
     "name": "stdout",
     "output_type": "stream",
     "text": [
      "[1 2 3 4]\n"
     ]
    }
   ],
   "source": [
    "import numpy as np\n",
    "\n",
    "detal=[1,2,3,4]\n",
    "w3=np.array(detal)\n",
    "print(w3)"
   ]
  },
  {
   "cell_type": "code",
   "execution_count": 31,
   "metadata": {},
   "outputs": [
    {
     "name": "stdout",
     "output_type": "stream",
     "text": [
      "[0 1 2 3 4 5 6 7 8 9]\n",
      "[0.  0.2 0.4 0.6 0.8]\n",
      "[0.   0.25 0.5  0.75 1.  ]\n",
      "[ 1.          1.77827941  3.16227766  5.62341325 10.        ]\n"
     ]
    }
   ],
   "source": [
    "array1=np.arange(10)\n",
    "print(array1)\n",
    "\n",
    "array2=np.arange(0,1,0.2)\n",
    "print(array2)\n",
    "\n",
    "array3=np.linspace(0,1,5)\n",
    "print(array3)\n",
    "\n",
    "array4=np.logspace(0,1,5)\n",
    "print(array4)"
   ]
  },
  {
   "cell_type": "code",
   "execution_count": 32,
   "metadata": {},
   "outputs": [
    {
     "name": "stdout",
     "output_type": "stream",
     "text": [
      "[0. 0. 0. 0.]\n",
      "[[0. 0. 0.]\n",
      " [0. 0. 0.]\n",
      " [0. 0. 0.]]\n",
      "[[1 0 0 0]\n",
      " [0 2 0 0]\n",
      " [0 0 3 0]\n",
      " [0 0 0 4]]\n",
      "[[6 6 6]\n",
      " [6 6 6]]\n"
     ]
    }
   ],
   "source": [
    "array5=np.zeros(4)\n",
    "print(array5)\n",
    "\n",
    "array6=np.zeros([3,3])\n",
    "print(array6)\n",
    "\n",
    "array7=np.diag([1,2,3,4])\n",
    "print(array7)\n",
    "\n",
    "array8=np.full((2,3),6)\n",
    "print(array8)"
   ]
  },
  {
   "cell_type": "markdown",
   "metadata": {},
   "source": [
    "###ndarraty对象属性和数据转换###"
   ]
  },
  {
   "cell_type": "code",
   "execution_count": 33,
   "metadata": {},
   "outputs": [
    {
     "name": "stdout",
     "output_type": "stream",
     "text": [
      "2\n",
      "(2, 3)\n",
      "6\n",
      "[[1 2]\n",
      " [3 4]\n",
      " [5 6]]\n",
      "int32\n",
      "float64\n"
     ]
    }
   ],
   "source": [
    "warry=np.array([[1,2,3],[4,5,6]])\n",
    "print(warry.ndim)\n",
    "print(warry.shape)\n",
    "print(warry.size)\n",
    "warry.shape=3,2\n",
    "print(warry)\n",
    "print(warry.dtype)\n",
    "print(warry.astype(np.float64).dtype)"
   ]
  },
  {
   "cell_type": "markdown",
   "metadata": {},
   "source": []
  },
  {
   "cell_type": "code",
   "execution_count": 34,
   "metadata": {},
   "outputs": [
    {
     "name": "stdout",
     "output_type": "stream",
     "text": [
      "[[164 141 183 177]\n",
      " [198 117 182 158]]\n",
      "[0.02524645 0.5490357  0.4904731  0.42531269 0.71607872]\n",
      "[[0.93942735 0.33257343 0.99311875]\n",
      " [0.63139301 0.93556672 0.78085095]]\n"
     ]
    }
   ],
   "source": [
    "arr1=np.random.randint(100,200,size=(2,4))\n",
    "print(arr1)\n",
    "arr2=np.random.rand(5)\n",
    "print(arr2)\n",
    "arr3=np.random.rand(2,3)\n",
    "print(arr3)"
   ]
  },
  {
   "cell_type": "markdown",
   "metadata": {},
   "source": [
    "###数组变换####"
   ]
  },
  {
   "cell_type": "code",
   "execution_count": 35,
   "metadata": {},
   "outputs": [
    {
     "name": "stdout",
     "output_type": "stream",
     "text": [
      "[ 0  1  2  3  4  5  6  7  8  9 10 11]\n",
      "[[ 0  1  2  3]\n",
      " [ 4  5  6  7]\n",
      " [ 8  9 10 11]]\n",
      "[[ 0  1  2  3  4  5]\n",
      " [ 6  7  8  9 10 11]]\n",
      "[ 0  1  2  3  4  5  6  7  8  9 10 11]\n",
      "[ 0  1  2  3  4  5  6  7  8  9 10 11]\n"
     ]
    }
   ],
   "source": [
    "arr1=np.arange(12)\n",
    "print(arr1)\n",
    "arr2=arr1.reshape(3,4)\n",
    "print(arr2)\n",
    "arr3=arr1.reshape(2,-1)#2行, arr1的行乘以列再除以2列\n",
    "print(arr3)\n",
    "\n",
    "arr4=arr2.ravel()\n",
    "print(arr4)\n",
    "arr5=arr2.flatten()\n",
    "print(arr5)"
   ]
  },
  {
   "cell_type": "code",
   "execution_count": 36,
   "metadata": {},
   "outputs": [
    {
     "name": "stdout",
     "output_type": "stream",
     "text": [
      "[[ 0  1  0  2]\n",
      " [ 2  3  4  6]\n",
      " [ 4  5  8 10]]\n",
      "[[ 0  1]\n",
      " [ 2  3]\n",
      " [ 4  5]\n",
      " [ 0  2]\n",
      " [ 4  6]\n",
      " [ 8 10]]\n"
     ]
    }
   ],
   "source": [
    "arr1=np.arange(6).reshape(3,2)\n",
    "arr2=arr1*2\n",
    "arr3=np.hstack((arr1,arr2))\n",
    "print(arr3)#横向 = np.concatenate((arr1,arr2), axis=1)\n",
    "arr4=np.vstack((arr1,arr2))\n",
    "print(arr4)#纵向 = np.concatenate((arr1,arr2), axis=0)\n"
   ]
  },
  {
   "cell_type": "code",
   "execution_count": 37,
   "metadata": {},
   "outputs": [
    {
     "name": "stdout",
     "output_type": "stream",
     "text": [
      "[array([[ 0,  1],\n",
      "       [ 4,  5],\n",
      "       [ 8,  9],\n",
      "       [12, 13]]), array([[ 2,  3],\n",
      "       [ 6,  7],\n",
      "       [10, 11],\n",
      "       [14, 15]])]\n",
      "[array([[0, 1, 2, 3],\n",
      "       [4, 5, 6, 7]]), array([[ 8,  9, 10, 11],\n",
      "       [12, 13, 14, 15]])]\n"
     ]
    }
   ],
   "source": [
    "arr=np.arange(16).reshape(4,4)\n",
    "print(np.hsplit(arr,2))\n",
    "print(np.vsplit(arr,2))"
   ]
  },
  {
   "cell_type": "code",
   "execution_count": 38,
   "metadata": {},
   "outputs": [
    {
     "name": "stdout",
     "output_type": "stream",
     "text": [
      "[[0 2 4]\n",
      " [1 3 5]]\n",
      "[[0 2 4]\n",
      " [1 3 5]]\n"
     ]
    }
   ],
   "source": [
    "arr=np.arange(6).reshape(3,2)\n",
    "print(arr.transpose((1,0)))\n",
    "print(arr.T)"
   ]
  },
  {
   "cell_type": "markdown",
   "metadata": {},
   "source": [
    "###切片和索引###"
   ]
  },
  {
   "cell_type": "code",
   "execution_count": 39,
   "metadata": {},
   "outputs": [
    {
     "name": "stdout",
     "output_type": "stream",
     "text": [
      "[0 1 2 3 4 5 6 7 8 9]\n",
      "2\n",
      "9\n",
      "[1 2 3]\n",
      "[1 2 3]\n"
     ]
    }
   ],
   "source": [
    "arr=np.arange(10)\n",
    "print(arr)\n",
    "print(arr[2])\n",
    "print(arr[-1])\n",
    "print(arr[1:4])\n",
    "arr1=arr[1:4].copy()\n",
    "print(arr1)"
   ]
  },
  {
   "cell_type": "code",
   "execution_count": 40,
   "metadata": {},
   "outputs": [
    {
     "name": "stdout",
     "output_type": "stream",
     "text": [
      "[[ 0  1  2  3]\n",
      " [ 4  5  6  7]\n",
      " [ 8  9 10 11]]\n",
      "[1 2]\n",
      "[[0 1 2 3]\n",
      " [4 5 6 7]]\n",
      "[1 7]\n",
      "[[4 5 6 7]] (0, 2, 3)\n",
      "[1 9]\n"
     ]
    }
   ],
   "source": [
    "arr=np.arange(12).reshape(3,4)\n",
    "print(arr)\n",
    "print(arr[0,1:3])\n",
    "print(arr[:2])\n",
    "print(arr[(0,1),(1,3)])\n",
    "print(arr[1:2],(0,2,3))\n",
    "mask=np.array([1,0,1],dtype=bool)\n",
    "print(arr[mask,1])"
   ]
  },
  {
   "cell_type": "markdown",
   "metadata": {},
   "source": [
    "###数组的运算###"
   ]
  },
  {
   "cell_type": "code",
   "execution_count": 41,
   "metadata": {},
   "outputs": [
    {
     "name": "stdout",
     "output_type": "stream",
     "text": [
      "[1, 4, 9]\n",
      "[2 4 6]\n"
     ]
    }
   ],
   "source": [
    "a=[1,2,3]\n",
    "b=[]\n",
    "for i in a:\n",
    "    b.append(i*i)\n",
    "print(b)\n",
    "wy=np.array([1,2,3])\n",
    "c=wy*2\n",
    "print(c)"
   ]
  },
  {
   "cell_type": "code",
   "execution_count": 42,
   "metadata": {},
   "outputs": [
    {
     "name": "stdout",
     "output_type": "stream",
     "text": [
      "[ 5  7 69]\n",
      "[ -3  -3 -63]\n",
      "[  4  10 198]\n",
      "[         1         32 1165272329]\n",
      "[False False False]\n",
      "[False False False]\n",
      "[[1 2 3]\n",
      " [2 3 4]\n",
      " [3 4 5]]\n",
      "[1, 4, 5, 8]\n"
     ]
    }
   ],
   "source": [
    "#ufunc函数\n",
    "x=np.array([1,2,3])\n",
    "y=np.array([4,5,66])\n",
    "print(x+y)\n",
    "print(x-y)\n",
    "print(x*y)\n",
    "print(x**y)\n",
    "print(x>y)\n",
    "print(x==y)\n",
    "\n",
    "arr1=np.array([[0,0,0],[1,1,1],[2,2,2]])\n",
    "arr2=np.array([1,2,3])\n",
    "print(arr1+arr2)\n",
    "\n",
    "arr1=np.array([1,3,5,7])\n",
    "arr2=np.array([2,4,6,8])\n",
    "cond=np.array([True,False,True,False])\n",
    "result=[(x if c else y) for x,y,c in zip(arr1,arr2,cond)]\n",
    "print(result)"
   ]
  },
  {
   "cell_type": "code",
   "execution_count": null,
   "metadata": {},
   "outputs": [],
   "source": []
  }
 ],
 "metadata": {
  "interpreter": {
   "hash": "7b4b4feff2f24a0f0a34464dbe537a36fda679851528fb8735cb41fa49dffb2d"
  },
  "kernelspec": {
   "display_name": "Python 3.9.7 ('base')",
   "language": "python",
   "name": "python3"
  },
  "language_info": {
   "codemirror_mode": {
    "name": "ipython",
    "version": 3
   },
   "file_extension": ".py",
   "mimetype": "text/x-python",
   "name": "python",
   "nbconvert_exporter": "python",
   "pygments_lexer": "ipython3",
   "version": "3.9.7"
  },
  "orig_nbformat": 4
 },
 "nbformat": 4,
 "nbformat_minor": 2
}
