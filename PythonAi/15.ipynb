{
 "cells": [
  {
   "cell_type": "code",
   "execution_count": 1,
   "metadata": {},
   "outputs": [],
   "source": [
    "from sklearn import tree\n",
    "from sklearn import svm\n",
    "from sklearn.datasets import load_iris\n",
    "from sklearn.linear_model import LogisticRegression\n",
    "from sklearn.model_selection import train_test_split\n",
    "import numpy as np\n",
    "from sklearn.preprocessing import label_binarize\n",
    "from sklearn.metrics import confusion_matrix, precision_score, accuracy_score, recall_score, f1_score, roc_auc_score, \\\n",
    "    roc_curve\n",
    "import matplotlib.pyplot as plt\n"
   ]
  },
  {
   "cell_type": "code",
   "execution_count": 2,
   "metadata": {},
   "outputs": [],
   "source": [
    "# 加载数据集\n",
    "def loadDataSet():\n",
    "    iris_dataset = load_iris()\n",
    "    X = iris_dataset.data\n",
    "    y = iris_dataset.target\n",
    "    # 将数据划分为训练集和测试集\n",
    "    X_train, X_test, y_train, y_test = train_test_split(X, y, test_size=0.2)\n",
    "    return X_train, X_test, y_train, y_test\n"
   ]
  },
  {
   "cell_type": "code",
   "execution_count": 3,
   "metadata": {},
   "outputs": [],
   "source": [
    "# 训练决策树模型\n",
    "def trainDT(x_train, y_train):\n",
    "    # DT生成和训练\n",
    "    clf = tree.DecisionTreeClassifier(criterion=\"entropy\")\n",
    "    clf.fit(x_train, y_train)\n",
    "    return clf"
   ]
  },
  {
   "cell_type": "code",
   "execution_count": 4,
   "metadata": {},
   "outputs": [],
   "source": [
    "# 训练Logistic模型\n",
    "def trainLS(x_train, y_train):\n",
    "    # Logistic生成和训练\n",
    "    clf = LogisticRegression()\n",
    "    clf.fit(x_train, y_train)\n",
    "    return clf"
   ]
  },
  {
   "cell_type": "code",
   "execution_count": 5,
   "metadata": {},
   "outputs": [],
   "source": [
    "# 训练SVM模型\n",
    "def trainSVM(x_train, y_train):\n",
    "    # SVM生成和训练\n",
    "    clf = svm.SVC(kernel='rbf', probability=True)\n",
    "    clf.fit(x_train, y_train)\n",
    "    return clf"
   ]
  },
  {
   "cell_type": "code",
   "execution_count": 6,
   "metadata": {},
   "outputs": [],
   "source": [
    "def drawROC(y_one_hot, y_pre_pro):\n",
    "    # AUC值\n",
    "    auc = roc_auc_score(y_one_hot, y_pre_pro, average='micro')\n",
    "    # 绘制ROC曲线\n",
    "    fpr, tpr, thresholds = roc_curve(y_one_hot.ravel(), y_pre_pro.ravel())\n",
    "    plt.plot(fpr, tpr, linewidth=2, label='AUC=%.3f' % auc)\n",
    "    plt.plot([0, 1], [0, 1], 'k--')\n",
    "    plt.axis([0, 1.1, 0, 1.1])\n",
    "    plt.xlabel('False Postivie Rate')\n",
    "    plt.ylabel('True Positive Rate')\n",
    "    plt.legend()\n",
    "    plt.show()"
   ]
  },
  {
   "cell_type": "code",
   "execution_count": 7,
   "metadata": {},
   "outputs": [],
   "source": [
    "# 测试模型\n",
    "def test(model, x_test, y_test):\n",
    "    # 将标签转换为one-hot形式\n",
    "    y_one_hot = label_binarize(y_test, np.arange(3))\n",
    "    # 预测结果\n",
    "    y_pre = model.predict(x_test)\n",
    "    # 预测结果的概率\n",
    "    y_pre_pro = model.predict_proba(x_test)\n",
    "\n",
    "    # 混淆矩阵\n",
    "    con_matrix = confusion_matrix(y_test, y_pre)\n",
    "    print('confusion_matrix:\\n', con_matrix)\n",
    "    print('accuracy:{}'.format(accuracy_score(y_test, y_pre)))\n",
    "    print('precision:{}'.format(precision_score(y_test, y_pre, average='micro')))\n",
    "    print('recall:{}'.format(recall_score(y_test, y_pre, average='micro')))\n",
    "    print('f1-score:{}'.format(f1_score(y_test, y_pre, average='micro')))\n",
    "\n",
    "    # 绘制ROC曲线\n",
    "    drawROC(y_one_hot, y_pre_pro)"
   ]
  },
  {
   "cell_type": "code",
   "execution_count": 8,
   "metadata": {},
   "outputs": [
    {
     "name": "stderr",
     "output_type": "stream",
     "text": [
      "d:\\anaconda3\\lib\\site-packages\\sklearn\\linear_model\\_logistic.py:763: ConvergenceWarning: lbfgs failed to converge (status=1):\n",
      "STOP: TOTAL NO. of ITERATIONS REACHED LIMIT.\n",
      "\n",
      "Increase the number of iterations (max_iter) or scale the data as shown in:\n",
      "    https://scikit-learn.org/stable/modules/preprocessing.html\n",
      "Please also refer to the documentation for alternative solver options:\n",
      "    https://scikit-learn.org/stable/modules/linear_model.html#logistic-regression\n",
      "  n_iter_i = _check_optimize_result(\n",
      "d:\\anaconda3\\lib\\site-packages\\sklearn\\utils\\validation.py:70: FutureWarning: Pass classes=[0 1 2] as keyword args. From version 1.0 (renaming of 0.25) passing these as positional arguments will result in an error\n",
      "  warnings.warn(f\"Pass {args_msg} as keyword args. From version \"\n"
     ]
    },
    {
     "name": "stdout",
     "output_type": "stream",
     "text": [
      "confusion_matrix:\n",
      " [[ 9  0  0]\n",
      " [ 0 10  1]\n",
      " [ 0  0 10]]\n",
      "accuracy:0.9666666666666667\n",
      "precision:0.9666666666666667\n",
      "recall:0.9666666666666667\n",
      "f1-score:0.9666666666666667\n"
     ]
    },
    {
     "data": {
      "image/png": "[encoded data removed]",
      "text/plain": [
       "<Figure size 432x288 with 1 Axes>"
      ]
     },
     "metadata": {},
     "output_type": "display_data"
    },
    {
     "name": "stdout",
     "output_type": "stream",
     "text": [
      "---------------------------------------------------------\n",
      "confusion_matrix:\n",
      " [[ 9  0  0]\n",
      " [ 0 10  1]\n",
      " [ 0  1  9]]\n",
      "accuracy:0.9333333333333333\n",
      "precision:0.9333333333333333\n",
      "recall:0.9333333333333333\n",
      "f1-score:0.9333333333333333\n"
     ]
    },
    {
     "name": "stderr",
     "output_type": "stream",
     "text": [
      "d:\\anaconda3\\lib\\site-packages\\sklearn\\utils\\validation.py:70: FutureWarning: Pass classes=[0 1 2] as keyword args. From version 1.0 (renaming of 0.25) passing these as positional arguments will result in an error\n",
      "  warnings.warn(f\"Pass {args_msg} as keyword args. From version \"\n"
     ]
    },
    {
     "data": {
      "image/png": "[encoded data removed]",
      "text/plain": [
       "<Figure size 432x288 with 1 Axes>"
      ]
     },
     "metadata": {},
     "output_type": "display_data"
    },
    {
     "name": "stdout",
     "output_type": "stream",
     "text": [
      "---------------------------------------------------------\n",
      "confusion_matrix:\n",
      " [[ 9  0  0]\n",
      " [ 0 10  1]\n",
      " [ 0  0 10]]\n",
      "accuracy:0.9666666666666667\n",
      "precision:0.9666666666666667\n",
      "recall:0.9666666666666667\n",
      "f1-score:0.9666666666666667\n"
     ]
    },
    {
     "name": "stderr",
     "output_type": "stream",
     "text": [
      "d:\\anaconda3\\lib\\site-packages\\sklearn\\utils\\validation.py:70: FutureWarning: Pass classes=[0 1 2] as keyword args. From version 1.0 (renaming of 0.25) passing these as positional arguments will result in an error\n",
      "  warnings.warn(f\"Pass {args_msg} as keyword args. From version \"\n"
     ]
    },
    {
     "data": {
      "image/png": "[encoded data removed]",
      "text/plain": [
       "<Figure size 432x288 with 1 Axes>"
      ]
     },
     "metadata": {},
     "output_type": "display_data"
    }
   ],
   "source": [
    "if __name__ == '__main__':\n",
    "    X_train, X_test, y_train, y_test = loadDataSet()\n",
    "    # 训练Logistic模型\n",
    "    model = trainLS(X_train, y_train)\n",
    "    test(model, X_test, y_test)\n",
    "    print(\"---------------------------------------------------------\")\n",
    "    # 训练决策树模型\n",
    "    model = trainDT(X_train, y_train)\n",
    "    test(model, X_test, y_test)\n",
    "    print(\"---------------------------------------------------------\")\n",
    "    # 训练SVM模型\n",
    "    model = trainSVM(X_train, y_train)\n",
    "    test(model, X_test, y_test)"
   ]
  }
 ],
 "metadata": {
  "kernelspec": {
   "display_name": "Python 3.9.7 ('base')",
   "language": "python",
   "name": "python3"
  },
  "language_info": {
   "codemirror_mode": {
    "name": "ipython",
    "version": 3
   },
   "file_extension": ".py",
   "mimetype": "text/x-python",
   "name": "python",
   "nbconvert_exporter": "python",
   "pygments_lexer": "ipython3",
   "version": "3.9.7"
  },
  "orig_nbformat": 4,
  "vscode": {
   "interpreter": {
    "hash": "49cb93f377a7abe7414b7b0f21fb3017538004a126cf690fb524202736b7fb92"
   }
  }
 },
 "nbformat": 4,
 "nbformat_minor": 2
}
